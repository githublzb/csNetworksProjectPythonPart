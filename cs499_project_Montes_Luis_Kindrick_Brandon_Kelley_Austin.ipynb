{
 "cells": [
  {
   "cell_type": "markdown",
   "metadata": {},
   "source": [
    "# Local Bridge Lab\n",
    "\n",
    "The purpose of this lab is to help familiarize yourself with the concept of local bridges and the Jaccard Similarity Index. \n",
    "\n",
    "I will highlight sections of the lab where you are to enter code or markdown with these respective tags above empty notebook cells: @writehere and @codehere\n",
    "\n",
    "## Background\n",
    "\n",
    "### Fundamental\n",
    "\n",
    "[Local Bridges](https://www.cs.cornell.edu/home/kleinber/networks-book/networks-book-ch03.pdf)\n",
    "\n",
    "[Jaccard Similarity Index](http://www.statisticshowto.com/jaccard-index/)"
   ]
  },
  {
   "cell_type": "code",
   "execution_count": 2,
   "metadata": {
    "collapsed": true
   },
   "outputs": [],
   "source": [
    "import networkx as nx\n",
    "import matplotlib\n",
    "import matplotlib.pyplot as plt\n",
    "import time\n",
    "import scipy as sp\n",
    "import numpy as np\n",
    "\n",
    "# This line configures matplotlib to show figures embedded in the notebook, \n",
    "# instead of opening a new window for each figure. More about that later. \n",
    "# If you are using an old version of IPython, try using '%pylab inline' instead.\n",
    "%matplotlib inline"
   ]
  },
  {
   "cell_type": "markdown",
   "metadata": {},
   "source": [
    "## Data set\n",
    "For this lab, we will use 4 types of generated graphs: Erdos-Renyi, Barabasi-Alfred, Power Law, and Watts-Strogatz Small World. "
   ]
  },
  {
   "cell_type": "code",
   "execution_count": 3,
   "metadata": {
    "collapsed": false
   },
   "outputs": [],
   "source": [
    "# Generate graphs\n",
    "\n",
    "# Erdos-Renyi Graph\n",
    "G1 = nx.erdos_renyi_graph(100, 0.1, seed=\"lab02\", directed=False)\n",
    "\n",
    "# Barabasi-Albert Graph\n",
    "G2 = nx.barabasi_albert_graph(100, 1, seed=\"lab02\")\n",
    "\n",
    "# Power Law Graph\n",
    "G3 = nx.powerlaw_cluster_graph(100, 1, 0.25, seed=\"lab02\")\n",
    "\n",
    "# Watts-Strogatz Small World Graph\n",
    "G4 = nx.watts_strogatz_graph(100, 5, 0.25, seed=\"lab02\")\n"
   ]
  },
  {
   "cell_type": "markdown",
   "metadata": {},
   "source": [
    "## Local Bridges\n",
    "\n",
    "In class on 2/28, we talked about local bridges and how they can be identified by calculating the Jaccard Similarity Index of neighborhoods associated with two nodes connected by an edge. \n",
    "\n",
    "### Input\n",
    "Your implementation of the FindLocalBridges function will take in the following variables: a networkx Graph object (*G*).\n",
    "\n",
    "### Output\n",
    "Your PageRank function should return a Python list of edge tuples that represent local bridges in the graph G. If there are no local bridges, return an empty list. \n"
   ]
  },
  {
   "cell_type": "code",
   "execution_count": 8,
   "metadata": {
    "collapsed": false
   },
   "outputs": [
    {
     "name": "stdout",
     "output_type": "stream",
     "text": [
      "50.0\n",
      "25.0\n"
     ]
    },
    {
     "data": {
      "text/plain": [
       "[[1, 4]]"
      ]
     },
     "execution_count": 8,
     "metadata": {},
     "output_type": "execute_result"
    }
   ],
   "source": [
    "# START Helper functions \n",
    "#=============================\n",
    "\n",
    "# Takes two lists and calculates the JS Index associated with them.\n",
    "# Returns JS Index as a float\n",
    "def JaccardSimilarityIndex(neighborhood1, neighborhood2):\n",
    "    # following the form ((A intersect B)/(A union B)) * 100 = JSI\n",
    "    \n",
    "    # cast whatever array type given ({} || [])) to [] or list\n",
    "    neighborhood1 = list(neighborhood1)\n",
    "    neighborhood2 = list(neighborhood2)\n",
    "    # but make sure to make sets ({}) again whever using set operations\n",
    "    numerator = set(neighborhood1).intersection(set(neighborhood2));\n",
    "    denominator = set(neighborhood1).union(set(neighborhood2));\n",
    "    numeratorLength = len(numerator);\n",
    "    denominatorLength = len(denominator);\n",
    "    jsi = (numeratorLength / denominatorLength) * 100;\n",
    "    return jsi\n",
    "\n",
    "print(JaccardSimilarityIndex([2, 1, 3], [0, 1, 2])) # 50% return\n",
    "\n",
    "print(JaccardSimilarityIndex([\"you're dying\", \"you're dying\", \"not\", \"Not\"], [\"tes\", \"you're dying\"]));\n",
    "\n",
    "\n",
    "arrayOfGames = []\n",
    "game = []\n",
    "file = open(\"cleanData.txt\", 'r')\n",
    "newText = [line.split(',') for line in file.readlines()]\n",
    "#newText = [line.strip('\\n') for line in file.readlines()] j = 0 for i in range(4): arrayOfGames.append(newText[:4]) print(arrayOfGames[j])\n",
    "\n",
    "#JaccardSimilarityIndex(G1, G2)\n",
    "\n",
    "    \n",
    "# END Helper functions \n",
    "#=============================\n",
    "# Definition of the FindLocalBridges function\n",
    "# Takes in a networkx Graph\n",
    "# Returns a list of edges representing local bridges\n",
    "def FindLocalBridges(G):\n",
    "    listOfEdges = [];\n",
    "    \n",
    "    # check a node then each of its neighbor at a time for JSI of 0\n",
    "    for i in range(len(G.nodes())):\n",
    "        currentNode = G.neighbors(i);\n",
    "        for neighborNumber in currentNode:\n",
    "            # need to make a duplicate of current so remove call doesn't affect other iterations on current\n",
    "            copyOfCurrentNode = G.neighbors(i);\n",
    "           \n",
    "            neighborNode = G.neighbors(neighborNumber);\n",
    "            # edit neighbor node so current is not in its array (for JSI find)\n",
    "            neighborNode.remove(i);\n",
    "            \n",
    "            # edit current node so neighbor is not in its array (for JSI find)\n",
    "            copyOfCurrentNode.remove(neighborNumber);            \n",
    "            \n",
    "            \n",
    "            jsiValue = JaccardSimilarityIndex(neighborNode, currentNode);\n",
    "            # when JSI is zero, then local bridge found BECAUSE neighbor navigation is the only\n",
    "            # way nodes are being compared here, and if two nodes are neighbors it will always be the case\n",
    "            # that each node is in the other's list of neighbor nodes\n",
    "            if (jsiValue == 0):\n",
    "                edgePair = sorted([i,neighborNumber]);\n",
    "                # Learned about a quick way to know wheter I can append an item to my edge list or not.\n",
    "                # I don't want to append a pair whenever a duplicate is present in final collection\n",
    "                # (even if not in same order)\n",
    "                # https://stackoverflow.com/questions/7571635/fastest-way-to-check-if-a-value-exist-in-a-list\n",
    "                if ((edgePair not in listOfEdges)):\n",
    "                    listOfEdges.append(edgePair);\n",
    "    return listOfEdges;    \n",
    "                \n",
    "#FindLocalBridges(G1)\n",
    "\n",
    "# Test with slideshow example minus the top section (for simplicity)\n",
    "# Brandon Kindrick reminded me how to make the graph.\n",
    "G5 = nx.Graph()\n",
    "G5.add_node(0)\n",
    "G5.add_node(1)\n",
    "G5.add_node(2)\n",
    "G5.add_node(3)\n",
    "G5.add_node(4)\n",
    "G5.add_node(5)\n",
    "G5.add_node(6)\n",
    "G5.add_node(7)\n",
    "\n",
    "G5.add_edges_from([(0, 1), (0, 2), (0, 3)]);\n",
    "G5.add_edges_from([(1, 3), (1, 4)]);\n",
    "G5.add_edges_from([(2, 3)]);\n",
    "G5.add_edges_from([(4, 5), (4, 6), (4, 7)]);\n",
    "G5.add_edges_from([(5, 6), (5, 7)]);\n",
    "G5.add_edges_from([(6, 7)]);\n",
    "\n",
    "FindLocalBridges(G5) # returns [1, 4] which is correct   "
   ]
  },
  {
   "cell_type": "markdown",
   "metadata": {},
   "source": [
    "### Checking your implementation\n",
    "To check your implementation, run your FindLocalBridges on smaller graphs that you can verify by hand. It might make sense to use the graph we examine in class on 2/28 (in the slides posted on BbLearn). \n",
    "\n"
   ]
  },
  {
   "cell_type": "markdown",
   "metadata": {},
   "source": [
    "## Collaborators\n",
    "List the names of your collaborators here @writehere"
   ]
  },
  {
   "cell_type": "code",
   "execution_count": 5,
   "metadata": {
    "collapsed": false
   },
   "outputs": [
    {
     "ename": "SyntaxError",
     "evalue": "invalid syntax (<ipython-input-5-4d6f93689b19>, line 1)",
     "output_type": "error",
     "traceback": [
      "\u001b[1;36m  File \u001b[1;32m\"<ipython-input-5-4d6f93689b19>\"\u001b[1;36m, line \u001b[1;32m1\u001b[0m\n\u001b[1;33m    Brandon Kindrick\u001b[0m\n\u001b[1;37m                   ^\u001b[0m\n\u001b[1;31mSyntaxError\u001b[0m\u001b[1;31m:\u001b[0m invalid syntax\n"
     ]
    }
   ],
   "source": [
    "Brandon Kindrick"
   ]
  },
  {
   "cell_type": "code",
   "execution_count": null,
   "metadata": {
    "collapsed": true
   },
   "outputs": [],
   "source": [
    "Austin Kelly"
   ]
  },
  {
   "cell_type": "code",
   "execution_count": null,
   "metadata": {
    "collapsed": true
   },
   "outputs": [],
   "source": [
    "Luis Arroyo"
   ]
  },
  {
   "cell_type": "code",
   "execution_count": null,
   "metadata": {
    "collapsed": true
   },
   "outputs": [],
   "source": []
  },
  {
   "cell_type": "code",
   "execution_count": null,
   "metadata": {
    "collapsed": true
   },
   "outputs": [],
   "source": []
  },
  {
   "cell_type": "code",
   "execution_count": null,
   "metadata": {
    "collapsed": true
   },
   "outputs": [],
   "source": []
  },
  {
   "cell_type": "code",
   "execution_count": null,
   "metadata": {
    "collapsed": true
   },
   "outputs": [],
   "source": []
  },
  {
   "cell_type": "code",
   "execution_count": null,
   "metadata": {
    "collapsed": true
   },
   "outputs": [],
   "source": []
  },
  {
   "cell_type": "code",
   "execution_count": null,
   "metadata": {
    "collapsed": true
   },
   "outputs": [],
   "source": []
  },
  {
   "cell_type": "code",
   "execution_count": null,
   "metadata": {
    "collapsed": true
   },
   "outputs": [],
   "source": []
  },
  {
   "cell_type": "code",
   "execution_count": null,
   "metadata": {
    "collapsed": true
   },
   "outputs": [],
   "source": []
  },
  {
   "cell_type": "code",
   "execution_count": null,
   "metadata": {
    "collapsed": true
   },
   "outputs": [],
   "source": []
  }
 ],
 "metadata": {
  "kernelspec": {
   "display_name": "Python 3",
   "language": "python",
   "name": "python3"
  },
  "language_info": {
   "codemirror_mode": {
    "name": "ipython",
    "version": 3
   },
   "file_extension": ".py",
   "mimetype": "text/x-python",
   "name": "python",
   "nbconvert_exporter": "python",
   "pygments_lexer": "ipython3",
   "version": "3.4.3"
  }
 },
 "nbformat": 4,
 "nbformat_minor": 0
}
